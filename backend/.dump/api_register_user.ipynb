{
 "cells": [
  {
   "cell_type": "code",
   "execution_count": 1,
   "metadata": {},
   "outputs": [],
   "source": [
    "import bcrypt\n",
    "import psycopg2\n",
    "# Connect to your postgres DB\n",
    "conn = psycopg2.connect(\"dbname=appsenindb user=postgres password=admin host=localhost\")\n",
    "\n",
    "# Open a cursor to perform database operations\n",
    "cur = conn.cursor()"
   ]
  },
  {
   "cell_type": "code",
   "execution_count": 2,
   "metadata": {},
   "outputs": [],
   "source": [
    "\n",
    "def create_user(username, plain_password):\n",
    "    # Generate salt\n",
    "    salt = bcrypt.gensalt()\n",
    "    \n",
    "    # Hash password\n",
    "    hashed_password = bcrypt.hashpw(plain_password.encode('utf-8'), salt)\n",
    "    \n",
    "    # Format data pengguna\n",
    "    user_data = {\n",
    "        \"username\": username,\n",
    "        \"password\": hashed_password.decode('utf-8')  # Ubah byte ke string untuk disimpan di DB\n",
    "    }\n",
    "    \n",
    "    return user_data"
   ]
  },
  {
   "cell_type": "code",
   "execution_count": 3,
   "metadata": {},
   "outputs": [],
   "source": [
    "def decode_password(hashed_password, plain_password):\n",
    "    # Decode hashed password\n",
    "    if bcrypt.checkpw(plain_password.encode('utf-8'), hashed_password.encode('utf-8')):\n",
    "        return True\n",
    "    else:\n",
    "        return False"
   ]
  },
  {
   "cell_type": "code",
   "execution_count": 4,
   "metadata": {},
   "outputs": [
    {
     "name": "stdout",
     "output_type": "stream",
     "text": [
      "True\n",
      "{'username': 'appsenin.admin', 'password': '$2b$12$U9eaobXYpphinJIHxVBcD.DQSJeVHpcY1./prvW9A3H2M4l/YjOtC'}\n"
     ]
    }
   ],
   "source": [
    "# Contoh penggunaan\n",
    "new_user = create_user('appsenin.admin', \"secureAdmin#2025\")\n",
    "print(decode_password(new_user['password'], \"secureAdmin#2025\"))\n",
    "\n",
    "print(new_user)"
   ]
  },
  {
   "cell_type": "code",
   "execution_count": 5,
   "metadata": {},
   "outputs": [],
   "source": [
    "try:\n",
    "\t# Insert new user into at_sys_msuser table\n",
    "\tinsert_query = \"\"\"\n",
    "\tinsert into \n",
    "  at_sys_msuser (\n",
    "    user_name, \n",
    "    user_fullname, \n",
    "    user_pass, \n",
    "    user_email, \n",
    "    user_number, \n",
    "    created_by, \n",
    "    created_at, \n",
    "    modified_by, \n",
    "    modified_at, \n",
    "    is_active\n",
    "  )\n",
    "values\n",
    "  (\n",
    "    %s, \n",
    "    'Appsenin Admin', \n",
    "    %s, \n",
    "    'appsenin.admin@test.com', \n",
    "    '621234',  \n",
    "    '0', \n",
    "    'now()', \n",
    "    '0', \n",
    "    'now()', \n",
    "    TRUE\n",
    "  );\n",
    "\n",
    "\t\"\"\"\n",
    "\tcur.execute(insert_query, (new_user['username'], new_user['password']))\n",
    "\n",
    "\t# Commit the transaction\n",
    "\tconn.commit()\n",
    "except Exception as e:\n",
    "\t# Rollback the transaction in case of error\n",
    "\tconn.rollback()\n",
    "\tprint(f\"An error occurred: {e}\")"
   ]
  },
  {
   "cell_type": "code",
   "execution_count": 6,
   "metadata": {},
   "outputs": [
    {
     "name": "stdout",
     "output_type": "stream",
     "text": [
      "Password is valid: True\n"
     ]
    }
   ],
   "source": [
    "try:\n",
    "    # Fetch user data from the database\n",
    "    cur.execute(\"SELECT user_pass FROM at_sys_msuser WHERE user_name = %s\", (new_user['username'],))\n",
    "    result = cur.fetchone()\n",
    "    \n",
    "    if result:\n",
    "        stored_password = result[0]\n",
    "        # Test the password\n",
    "        is_valid = decode_password(stored_password, \"secureAdmin#2025\")\n",
    "        print(f\"Password is valid: {is_valid}\")\n",
    "    else:\n",
    "        print(\"User not found.\")\n",
    "except Exception as e:\n",
    "    print(f\"An error occurred: {e}\")"
   ]
  }
 ],
 "metadata": {
  "kernelspec": {
   "display_name": "_venv",
   "language": "python",
   "name": "python3"
  },
  "language_info": {
   "codemirror_mode": {
    "name": "ipython",
    "version": 3
   },
   "file_extension": ".py",
   "mimetype": "text/x-python",
   "name": "python",
   "nbconvert_exporter": "python",
   "pygments_lexer": "ipython3",
   "version": "3.12.5"
  }
 },
 "nbformat": 4,
 "nbformat_minor": 2
}
