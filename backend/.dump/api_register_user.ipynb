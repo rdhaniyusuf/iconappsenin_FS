{
 "cells": [
  {
   "cell_type": "code",
<<<<<<< Updated upstream:backend/.dump/api_register_user.ipynb
   "execution_count": 1,
=======
<<<<<<< Updated upstream:backend/dump/api_register_user.ipynb
   "execution_count": 2,
=======
   "execution_count": 6,
>>>>>>> Stashed changes:backend/.dump/api_register_user.ipynb
>>>>>>> Stashed changes:backend/dump/api_register_user.ipynb
   "metadata": {},
   "outputs": [],
   "source": [
    "import bcrypt\n",
    "import psycopg2\n",
    "# Connect to your postgres DB\n",
    "conn = psycopg2.connect(\"dbname=appsenindb user=postgres password=admin host=localhost\")\n",
    "\n",
    "# Open a cursor to perform database operations\n",
    "cur = conn.cursor()"
   ]
  },
  {
   "cell_type": "code",
<<<<<<< Updated upstream:backend/.dump/api_register_user.ipynb
   "execution_count": 2,
=======
<<<<<<< Updated upstream:backend/dump/api_register_user.ipynb
   "execution_count": 3,
=======
   "execution_count": 7,
>>>>>>> Stashed changes:backend/.dump/api_register_user.ipynb
>>>>>>> Stashed changes:backend/dump/api_register_user.ipynb
   "metadata": {},
   "outputs": [],
   "source": [
    "\n",
    "def create_user(username, plain_password):\n",
    "    # Generate salt\n",
    "    salt = bcrypt.gensalt(rounds=15, prefix=b\"2b\")\n",
    "    \n",
    "    # Hash password\n",
    "    hashed_password = bcrypt.hashpw(plain_password.encode('utf-8'), salt)\n",
    "    \n",
    "    # Format data pengguna\n",
    "    user_data = {\n",
    "        \"username\": username,\n",
    "        \"password\": hashed_password.decode('utf-8')  # Ubah byte ke string untuk disimpan di DB\n",
    "    }\n",
    "    \n",
    "    return user_data"
   ]
  },
  {
   "cell_type": "code",
<<<<<<< Updated upstream:backend/.dump/api_register_user.ipynb
   "execution_count": 3,
=======
<<<<<<< Updated upstream:backend/dump/api_register_user.ipynb
   "execution_count": 5,
=======
   "execution_count": 8,
>>>>>>> Stashed changes:backend/.dump/api_register_user.ipynb
>>>>>>> Stashed changes:backend/dump/api_register_user.ipynb
   "metadata": {},
   "outputs": [],
   "source": [
    "def decode_password(hashed_password, plain_password):\n",
    "    # Decode hashed password\n",
    "    bcrypt.gensalt(rounds=15, prefix=b\"2b\")\n",
    "    if bcrypt.checkpw(plain_password.encode('utf-8'), hashed_password.encode('utf-8')):\n",
    "        return True\n",
    "    else:\n",
    "        return False"
   ]
  },
  {
   "cell_type": "code",
<<<<<<< Updated upstream:backend/.dump/api_register_user.ipynb
   "execution_count": 4,
=======
<<<<<<< Updated upstream:backend/dump/api_register_user.ipynb
   "execution_count": 14,
=======
   "execution_count": 20,
>>>>>>> Stashed changes:backend/.dump/api_register_user.ipynb
>>>>>>> Stashed changes:backend/dump/api_register_user.ipynb
   "metadata": {},
   "outputs": [
    {
     "name": "stdout",
     "output_type": "stream",
     "text": [
      "True\n",
<<<<<<< Updated upstream:backend/.dump/api_register_user.ipynb
      "{'username': 'appsenin.admin', 'password': '$2b$15$QLSNoxvt3o.dUORT2aaCcuS8VbBhATxanZrhPgkD.MYEChKD6h5R.'}\n"
=======
<<<<<<< Updated upstream:backend/dump/api_register_user.ipynb
      "{'username': 'admin_appsenin', 'password': '$2b$12$et7XG3WVnQLD2MUbiID7jOtzDxiBg0Is6JdLtEWCnO7HC8S.noIAO'}\n"
=======
      "True\n",
      "True\n"
>>>>>>> Stashed changes:backend/.dump/api_register_user.ipynb
>>>>>>> Stashed changes:backend/dump/api_register_user.ipynb
     ]
    }
   ],
   "source": [
    "# Contoh penggunaan\n",
<<<<<<< Updated upstream:backend/.dump/api_register_user.ipynb
    "new_user = create_user('appsenin.admin', \"secureAdmin#2025\")\n",
=======
<<<<<<< Updated upstream:backend/dump/api_register_user.ipynb
    "new_user = create_user(\"admin_appsenin\", \"secureAdmin#2025\")\n",
>>>>>>> Stashed changes:backend/dump/api_register_user.ipynb
    "print(decode_password(new_user['password'], \"secureAdmin#2025\"))\n",
=======
    "# new_user = create_user('appsenin.leader', \"secureLeader#2025\")\n",
    "# print(decode_password(new_user['password'], \"secureLeader#2025\"))\n",
>>>>>>> Stashed changes:backend/.dump/api_register_user.ipynb
    "\n",
    "new_user = [\n",
    "            ['appsenin.leader',\"Appsenin Team Leader\",'appsenin.leader@test.com', \"secureLeader#2025\"], \n",
    "            ['appsenin.techwriter',\"Appsenin Tech Writer\",'appsenin.techwriter@test.com', \"secureTechWriter#2025\"], \n",
    "            ['appsenin.techsupport',\"Appsenin Tech Support\",'appsenin.techsupport@test.com', \"secureTechSupport#2025\"]] \n",
    "\n",
    "for i in range(len(new_user)):\n",
    "    user = create_user(new_user[i][0], new_user[i][3])\n",
    "    try:\n",
    "    # Insert new user into at_sys_msuser table\n",
    "        insert_query = \"\"\"\n",
    "        insert into \n",
    "        at_sys_msuser (\n",
    "            user_name, \n",
    "            user_fullname, \n",
    "            user_pass, \n",
    "            user_email, \n",
    "            user_number, \n",
    "            created_by, \n",
    "            created_at, \n",
    "            modified_by, \n",
    "            modified_at, \n",
    "            is_active\n",
    "        )\n",
    "        values\n",
    "        (\n",
    "            %s, \n",
    "            %s,\n",
    "            %s, \n",
    "            %s,\n",
    "            '621234',  \n",
    "            '2', \n",
    "            'now()', \n",
    "            '2', \n",
    "            'now()', \n",
    "            TRUE\n",
    "        );\n",
    "        \"\"\"\n",
    "    \n",
    "        update_query = \"\"\"\n",
    "        update at_sys_msuser\n",
    "        set \n",
    "            user_pass = %s\n",
    "        where user_name = %s;\n",
    "        \"\"\"\n",
    "        \n",
    "        # print((new_user[i][0], new_user[i][1], user['password'], new_user[i][2]))\n",
    "        cur.execute(insert_query, (new_user[i][0], new_user[i][1], user['password'], new_user[i][2]))\n",
    "\n",
    "        # Commit the transaction\n",
    "        conn.commit()\n",
    "    except Exception as e:\n",
    "        # Rollback the transaction in case of error\n",
    "        conn.rollback()\n",
    "        print(f\"An error occurred: {e}\")\n",
    "    print(decode_password(user['password'], new_user[i][3]))    "
   ]
  },
  {
   "cell_type": "code",
<<<<<<< Updated upstream:backend/.dump/api_register_user.ipynb
   "execution_count": 8,
=======
<<<<<<< Updated upstream:backend/dump/api_register_user.ipynb
   "execution_count": 19,
>>>>>>> Stashed changes:backend/dump/api_register_user.ipynb
   "metadata": {},
   "outputs": [],
   "source": [
    "try:\n",
    "    # Insert new user into at_sys_msuser table\n",
    "    insert_query = \"\"\"\n",
    "    insert into \n",
    "    at_sys_msuser (\n",
    "        user_name, \n",
    "        user_fullname, \n",
    "        user_pass, \n",
    "        user_email, \n",
    "        user_number, \n",
    "        created_by, \n",
    "        created_at, \n",
    "        modified_by, \n",
    "        modified_at, \n",
    "        is_active\n",
    "    )\n",
    "    values\n",
    "    (\n",
    "        %s, \n",
    "        'Appsenin Admin', \n",
    "        %s, \n",
    "        'appsenin.admin@test.com', \n",
    "        '621234',  \n",
    "        '0', \n",
    "        'now()', \n",
    "        '0', \n",
    "        'now()', \n",
    "        TRUE\n",
    "    );\n",
    "    \"\"\"\n",
    "    \n",
    "    update_query = \"\"\"\n",
    "    update at_sys_msuser\n",
    "    set \n",
    "        user_pass = %s\n",
    "    where user_name = %s;\n",
    "    \"\"\"\n",
    "    cur.execute(update_query, (new_user['password'], new_user['username']))\n",
    "\n",
    "    # Commit the transaction\n",
    "    conn.commit()\n",
    "except Exception as e:\n",
<<<<<<< Updated upstream:backend/.dump/api_register_user.ipynb
    "    # Rollback the transaction in case of error\n",
    "    conn.rollback()\n",
    "    print(f\"An error occurred: {e}\")"
=======
    "\t# Rollback the transaction in case of error\n",
    "\tconn.rollback()\n",
    "\tprint(f\"An error occurred: {e}\")"
=======
   "execution_count": 18,
   "metadata": {},
   "outputs": [],
   "source": [
    "# try:\n",
    "#     # Insert new user into at_sys_msuser table\n",
    "#     insert_query = \"\"\"\n",
    "#     insert into \n",
    "#     at_sys_msuser (\n",
    "#         user_name, \n",
    "#         user_fullname, \n",
    "#         user_pass, \n",
    "#         user_email, \n",
    "#         user_number, \n",
    "#         created_by, \n",
    "#         created_at, \n",
    "#         modified_by, \n",
    "#         modified_at, \n",
    "#         is_active\n",
    "#     )\n",
    "#     values\n",
    "#     (\n",
    "#         %s, \n",
    "#         'Appsenin Team Leader', \n",
    "#         %s, \n",
    "#         'appsenin.leader@test.com', \n",
    "#         '621234',  \n",
    "#         '2', \n",
    "#         'now()', \n",
    "#         '2', \n",
    "#         'now()', \n",
    "#         TRUE\n",
    "#     );\n",
    "#     \"\"\"\n",
    "    \n",
    "#     update_query = \"\"\"\n",
    "#     update at_sys_msuser\n",
    "#     set \n",
    "#         user_pass = %s\n",
    "#     where user_name = %s;\n",
    "#     \"\"\"\n",
    "#     cur.execute(update_query, (new_user['password'], new_user['username']))\n",
    "\n",
    "#     # Commit the transaction\n",
    "#     conn.commit()\n",
    "# except Exception as e:\n",
    "#     # Rollback the transaction in case of error\n",
    "#     conn.rollback()\n",
    "#     print(f\"An error occurred: {e}\")"
>>>>>>> Stashed changes:backend/.dump/api_register_user.ipynb
>>>>>>> Stashed changes:backend/dump/api_register_user.ipynb
   ]
  },
  {
   "cell_type": "code",
<<<<<<< Updated upstream:backend/.dump/api_register_user.ipynb
   "execution_count": 9,
=======
<<<<<<< Updated upstream:backend/dump/api_register_user.ipynb
   "execution_count": 20,
=======
   "execution_count": 19,
>>>>>>> Stashed changes:backend/.dump/api_register_user.ipynb
>>>>>>> Stashed changes:backend/dump/api_register_user.ipynb
   "metadata": {},
   "outputs": [
    {
     "name": "stdout",
     "output_type": "stream",
     "text": [
      "An error occurred: list indices must be integers or slices, not str\n"
     ]
    }
   ],
   "source": [
    "try:\n",
    "    # Fetch user data from the database\n",
    "    cur.execute(\"SELECT user_pass FROM at_sys_msuser WHERE user_name = %s\", (new_user['username'],))\n",
    "    result = cur.fetchone()\n",
    "    \n",
    "    if result:\n",
    "        stored_password = result[0]\n",
    "        # Test the password\n",
    "        is_valid = decode_password(stored_password, \"secureAdmin#2025\")\n",
    "        print(f\"Password is valid: {is_valid}\")\n",
    "    else:\n",
    "        print(\"User not found.\")\n",
    "except Exception as e:\n",
    "    print(f\"An error occurred: {e}\")"
   ]
  },
  {
   "cell_type": "code",
   "execution_count": null,
   "metadata": {},
   "outputs": [],
   "source": []
  }
 ],
 "metadata": {
  "kernelspec": {
   "display_name": "_venv",
   "language": "python",
   "name": "python3"
  },
  "language_info": {
   "codemirror_mode": {
    "name": "ipython",
    "version": 3
   },
   "file_extension": ".py",
   "mimetype": "text/x-python",
   "name": "python",
   "nbconvert_exporter": "python",
   "pygments_lexer": "ipython3",
   "version": "3.12.5"
  }
 },
 "nbformat": 4,
 "nbformat_minor": 2
}
