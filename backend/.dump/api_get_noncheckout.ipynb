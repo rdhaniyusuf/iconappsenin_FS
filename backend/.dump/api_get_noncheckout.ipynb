{
 "cells": [
  {
   "cell_type": "code",
   "execution_count": 1,
   "metadata": {},
   "outputs": [],
   "source": [
    "import os\n",
    "import time\n",
    "import datetime\n",
    "import pandas as pd\n",
    "from selenium import webdriver\n",
    "from selenium.webdriver.chrome.service import Service\n",
    "from selenium.webdriver.common.by import By\n",
    "from selenium.webdriver.chrome.options import Options\n",
    "from webdriver_manager.chrome import ChromeDriverManager\n",
    "from selenium.webdriver.support.ui import WebDriverWait\n",
    "from selenium.webdriver.support import expected_conditions as EC\n",
    "from selenium.webdriver.common.keys import Keys\n"
   ]
  },
  {
   "cell_type": "code",
   "execution_count": 2,
   "metadata": {},
   "outputs": [],
   "source": [
    "# Set Chrome options for headless mode\n",
    "chrome_options = Options()\n",
    "# Jalan tanpa UI\n",
    "chrome_options.add_argument(\"--headless\")\n",
    "download_dir = os.path.abspath(\"D:\\\\Projects\\\\Appsenin\\\\backend\\\\dump\\\\output\")\n",
    "\n",
    "prefs = {\n",
    "    \"download.default_directory\": download_dir,  # Set lokasi folder unduhan\n",
    "    \"download.prompt_for_download\": False,  # Jangan tampilkan dialog unduhan\n",
    "    \"download.directory_upgrade\": True,\n",
    "    \"safebrowsing.enabled\": True,\n",
    "    \"safebrowsing.disable_download_protection\": True  # Mencegah pemblokiran file\n",
    "}\n",
    "\n",
    "chrome_options.add_experimental_option(\"prefs\", prefs)\n",
    "\n",
    "chrome_options.add_argument(\"--window-size=1920,1080\")\n",
    "# User Agent\n",
    "chrome_options.add_argument(\n",
    "    \"user-agent=Mozilla/5.0 (Windows NT 10.0; Win64; x64) AppleWebKit/537.36 (KHTML, like Gecko) Chrome/120 Safari/537.36\"\n",
    ")"
   ]
  },
  {
   "cell_type": "code",
   "execution_count": 3,
   "metadata": {},
   "outputs": [
    {
     "data": {
      "text/plain": [
       "12"
      ]
     },
     "execution_count": 3,
     "metadata": {},
     "output_type": "execute_result"
    }
   ],
   "source": [
    "# tanggal\n",
    "date_now = datetime.datetime.now().date()\n",
    "date_now.day\n"
   ]
  },
  {
   "cell_type": "code",
   "execution_count": 4,
   "metadata": {},
   "outputs": [],
   "source": [
    "def renaming_file(download_dir):\n",
    "    # Rename file\n",
    "    for filename in os.listdir(download_dir):\n",
    "        if filename.endswith(\".xlsx\"):\n",
    "            os.rename(\n",
    "                os.path.join(download_dir, filename),\n",
    "                os.path.join(download_dir, f\"pegawai_{date_now}.xlsx\"),\n",
    "            )"
   ]
  },
  {
   "cell_type": "code",
   "execution_count": 5,
   "metadata": {},
   "outputs": [],
   "source": [
    "# fungsi get data\n",
    "def process_noncheckout(driver, day):\n",
    "    wait = WebDriverWait(driver, 5)\n",
    "\n",
    "    # select Unit Level\n",
    "    unit_level_input = wait.until(EC.element_to_be_clickable((By.XPATH, \"//div[2]/div/div[2]/div/div[1]/div/div[2]/div/input\")))\n",
    "    unit_level_input.clear()\n",
    "    unit_level_input.send_keys(\"PLN\")\n",
    "    unit_level_input.click()\n",
    "    time.sleep(2)\n",
    "    # tunggu popup muncul\n",
    "    wait.until(EC.visibility_of_element_located((By.XPATH,\"//div/div/div[2]/div/div[2]/div/div[1]/div/div[2]/div/div\")))\n",
    "    # pilih opsi unit level\n",
    "    selected_unit_level = wait.until(EC.element_to_be_clickable((By.XPATH, \"//div[2]/div/div[2]/div/div[1]/div/div[2]/div/div/div/ul/li[1]\")))\n",
    "    selected_unit_level.click()\n",
    "\n",
    "    # Select hari awal\n",
    "    start_day = wait.until(EC.element_to_be_clickable((By.CSS_SELECTOR, \"input[placeholder='Tanggal Mulai']\")))\n",
    "    start_day.click()\n",
    "    time.sleep(1)\n",
    "    today_date = day.today().strftime(\"%dd-%mm-%YYYY\")\n",
    "\n",
    "    # Masukkan tanggal\n",
    "    start_day.send_keys(today_date)\n",
    "    start_day.send_keys(Keys.RETURN)\n",
    "    time.sleep(1)\n",
    "    \n",
    "    # Select hari akhir\n",
    "    end_day = wait.until(EC.element_to_be_clickable((By.CSS_SELECTOR, \"input[placeholder='Tanggal Selesai']\")))\n",
    "    end_day.click()\n",
    "    time.sleep(1)\n",
    "\n",
    "     # Masukkan tanggal\n",
    "    end_day.send_keys(today_date)\n",
    "    end_day.send_keys(Keys.RETURN)\n",
    "    time.sleep(1)\n",
    "\n",
    "    # Klik Button Cari\n",
    "    search_button = wait.until(EC.element_to_be_clickable((By.XPATH, \".//*/div/div[2]/div/div/div/div[1]/div/div[7]/button\")))\n",
    "    search_button.click()\n",
    "\n",
    "    time.sleep(5) \n",
    "\n",
    "    download_button = wait.until(EC.element_to_be_clickable((By.XPATH, \".//*/div/div[2]/div/div/div/div[2]/div/div[1]/img[2]\") ))\n",
    "    download_button.click()\n",
    "    time.sleep(5)\n",
    "    renaming_file(download_dir)"
   ]
  },
  {
   "cell_type": "code",
   "execution_count": 6,
   "metadata": {},
   "outputs": [],
   "source": [
    "driver = webdriver.Chrome(service=Service(ChromeDriverManager().install()), options=chrome_options)\n",
    "\n",
    "url = os.getenv(\"ABSEN_LINK\")\n",
    "driver.get(url)\n",
    "\n",
    "username_input = WebDriverWait(driver, 30).until(\n",
    "    EC.visibility_of_element_located((By.XPATH, \".//*/form/div[3]/div/input\"))\n",
    ")\n",
    "time.sleep(1)\n",
    "username_input.send_keys(os.getenv(\"USER_NAME_LINK\"))\n",
    "\n",
    "password_input = WebDriverWait(driver, 30).until(\n",
    "\tEC.visibility_of_element_located((By.XPATH, \".//*/form/div[4]/div/div/input\"))\n",
    ")\n",
    "time.sleep(1)\n",
    "password_input.send_keys(os.getenv(\"PASSWORD_LINK\"))\n",
    "\n",
    "login_button = WebDriverWait(driver, 30).until(\n",
    "\tEC.visibility_of_element_located((By.XPATH, \".//*/form/div[5]/div/button\"))\n",
    ")\n",
    "time.sleep(1)\n",
    "login_button.click()\n",
    "\n",
    "# Wait for the login to complete\n",
    "time.sleep(10)\n",
    "# klik menu absen kehadiran\n",
    "kedisplinan_menu = WebDriverWait(driver, 30).until(\n",
    "\tEC.visibility_of_element_located((By.XPATH, \"//*/div[1]/div[1]/ul/div[3]/div[1]/div\"))\n",
    ")\n",
    "time.sleep(2)\n",
    "kedisplinan_menu.click()\n",
    "\n",
    "\n",
    "table_data = process_noncheckout(driver, datetime.datetime)\n",
    "driver.quit()"
   ]
  },
  {
   "cell_type": "markdown",
   "metadata": {},
   "source": [
    "Process Generate API"
   ]
  },
  {
   "cell_type": "code",
   "execution_count": 7,
   "metadata": {},
   "outputs": [
    {
     "name": "stdout",
     "output_type": "stream",
     "text": [
      "['Achmad Syachrul Alim', 'AFRIZAL FIRMANSYAH', 'Astri Nailah Aurelia', 'BEY ARYO ABIANTORO', 'BRIAN ADITIAYUDA', 'CATTLEYA CAELI LUIS', 'CHOIRUNNISA', 'DHAMAR SUMARWAN', 'Dian Lesmana', 'DIAN THERESIA', 'DWI PUTRI BONITA', 'EDY SUSILO', 'ERDIYANSYAH RIFWAN', 'FAIZAL LUBIS', 'Fata Sabita Ala Dini', 'Fatahillah Dian Pratomo', 'FENDY PURNOMO', 'Gita Diaz Pangesti', 'HASTI TRIANA PUTRI', 'HERRY ISMAIL', 'I Gst Ayu Nyn Trisna Wahyuni', 'IBRAHIM MANOREK', 'Irfa Ramadhanti', \"JA'FAHRUDIN\", 'KURNIA SAFITRI RAMADHAN', 'Laila Alfi Syah', 'LILIK NURHOLIDAH', 'M Fikri Damar Muchtarom', 'M. NOVAL KURNIAWAN', 'Mina Celia Muhidin', 'MOHAMMAD RIZZAL FIRDAUS ALMUGNI', 'Muhammad Afwan Fajri', 'Muhammad Alghany Jagad Aryasatya', 'Muhammad Arief Hidayattullah', 'MUHAMMAD BAGAS PRIAMBODO', 'Muhammad Candra Firmansyah', 'MUHAMMAD SULTAN ARIF', 'MUKHAMMAD THAUFIQ BAYU AJI', 'NANDA DWI CHRISTANTO', 'NIKEN RAHMADANI', 'NOVERRY AMBO', 'NURKHOLIS ARI SUGIARTO', 'OKSYA AFIFAH', 'Putri Salsabila Dewi', 'RATU TRIA', 'RESPATYADI HARI NUGROHO', 'Rifqi Afif Fauzan', 'Riki Handoyo', 'RIO FERNANDO ', 'SHINTA WIVI KUSUMAWARDANI', 'Sofiya', 'TATI JAYANTI', 'Tioria Sihombing', 'TRI MUHAMMAD ARIS', 'UMMAYA MARDHOTILLLAH', 'Wahyu Kuncoro', 'Winda Priliya']\n"
     ]
    }
   ],
   "source": [
    "\n",
    "DataFrame = pd.read_excel(f\"{download_dir}\\\\pegawai_{date_now}.xlsx\")\n",
    "name_list = DataFrame[(DataFrame['Absen Keluar'].isna()) & (DataFrame['Absen Masuk'].notna())]['Nama'].tolist()\n",
    "print(name_list)"
   ]
  },
  {
   "cell_type": "code",
   "execution_count": 8,
   "metadata": {},
   "outputs": [
    {
     "name": "stdout",
     "output_type": "stream",
     "text": [
      "None\n",
      "14:54:01.790604 {'Achmad Syachrul Alim': {'status': 'non-checkout'}, 'AFRIZAL FIRMANSYAH': {'status': 'non-checkout'}, 'Astri Nailah Aurelia': {'status': 'non-checkout'}, 'BEY ARYO ABIANTORO': {'status': 'non-checkout'}, 'BRIAN ADITIAYUDA': {'status': 'non-checkout'}, 'CATTLEYA CAELI LUIS': {'status': 'non-checkout'}, 'CHOIRUNNISA': {'status': 'non-checkout'}, 'DHAMAR SUMARWAN': {'status': 'non-checkout'}, 'Dian Lesmana': {'status': 'non-checkout'}, 'DIAN THERESIA': {'status': 'non-checkout'}, 'DWI PUTRI BONITA': {'status': 'non-checkout'}, 'EDY SUSILO': {'status': 'non-checkout'}, 'ERDIYANSYAH RIFWAN': {'status': 'non-checkout'}, 'FAIZAL LUBIS': {'status': 'non-checkout'}, 'Fata Sabita Ala Dini': {'status': 'non-checkout'}, 'Fatahillah Dian Pratomo': {'status': 'non-checkout'}, 'FENDY PURNOMO': {'status': 'non-checkout'}, 'Gita Diaz Pangesti': {'status': 'non-checkout'}, 'HASTI TRIANA PUTRI': {'status': 'non-checkout'}, 'HERRY ISMAIL': {'status': 'non-checkout'}, 'I Gst Ayu Nyn Trisna Wahyuni': {'status': 'non-checkout'}, 'IBRAHIM MANOREK': {'status': 'non-checkout'}, 'Irfa Ramadhanti': {'status': 'non-checkout'}, \"JA'FAHRUDIN\": {'status': 'non-checkout'}, 'KURNIA SAFITRI RAMADHAN': {'status': 'non-checkout'}, 'Laila Alfi Syah': {'status': 'non-checkout'}, 'LILIK NURHOLIDAH': {'status': 'non-checkout'}, 'M Fikri Damar Muchtarom': {'status': 'non-checkout'}, 'M. NOVAL KURNIAWAN': {'status': 'non-checkout'}, 'Mina Celia Muhidin': {'status': 'non-checkout'}, 'MOHAMMAD RIZZAL FIRDAUS ALMUGNI': {'status': 'non-checkout'}, 'Muhammad Afwan Fajri': {'status': 'non-checkout'}, 'Muhammad Alghany Jagad Aryasatya': {'status': 'non-checkout'}, 'Muhammad Arief Hidayattullah': {'status': 'non-checkout'}, 'MUHAMMAD BAGAS PRIAMBODO': {'status': 'non-checkout'}, 'Muhammad Candra Firmansyah': {'status': 'non-checkout'}, 'MUHAMMAD SULTAN ARIF': {'status': 'non-checkout'}, 'MUKHAMMAD THAUFIQ BAYU AJI': {'status': 'non-checkout'}, 'NANDA DWI CHRISTANTO': {'status': 'non-checkout'}, 'NIKEN RAHMADANI': {'status': 'non-checkout'}, 'NOVERRY AMBO': {'status': 'non-checkout'}, 'NURKHOLIS ARI SUGIARTO': {'status': 'non-checkout'}, 'OKSYA AFIFAH': {'status': 'non-checkout'}, 'Putri Salsabila Dewi': {'status': 'non-checkout'}, 'RATU TRIA': {'status': 'non-checkout'}, 'RESPATYADI HARI NUGROHO': {'status': 'non-checkout'}, 'Rifqi Afif Fauzan': {'status': 'non-checkout'}, 'Riki Handoyo': {'status': 'non-checkout'}, 'RIO FERNANDO ': {'status': 'non-checkout'}, 'SHINTA WIVI KUSUMAWARDANI': {'status': 'non-checkout'}, 'Sofiya': {'status': 'non-checkout'}, 'TATI JAYANTI': {'status': 'non-checkout'}, 'Tioria Sihombing': {'status': 'non-checkout'}, 'TRI MUHAMMAD ARIS': {'status': 'non-checkout'}, 'UMMAYA MARDHOTILLLAH': {'status': 'non-checkout'}, 'Wahyu Kuncoro': {'status': 'non-checkout'}, 'Winda Priliya': {'status': 'non-checkout'}}\n"
     ]
    }
   ],
   "source": [
    "non_checkout_data = {}\n",
    "def generate_api_payload(name_list):\n",
    "    for name in name_list:\n",
    "        non_checkout_data[name] = {\n",
    "            \"status\": \"non-checkout\"\n",
    "        }\n",
    "\n",
    "print(generate_api_payload(name_list))\n",
    "\n",
    "print(datetime.datetime.now().time(), non_checkout_data)"
   ]
  }
 ],
 "metadata": {
  "kernelspec": {
   "display_name": "_venv",
   "language": "python",
   "name": "python3"
  },
  "language_info": {
   "codemirror_mode": {
    "name": "ipython",
    "version": 3
   },
   "file_extension": ".py",
   "mimetype": "text/x-python",
   "name": "python",
   "nbconvert_exporter": "python",
   "pygments_lexer": "ipython3",
   "version": "3.12.5"
  }
 },
 "nbformat": 4,
 "nbformat_minor": 2
}
